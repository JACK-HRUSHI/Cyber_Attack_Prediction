{
 "cells": [
  {
   "cell_type": "code",
   "execution_count": 1,
   "metadata": {},
   "outputs": [
    {
     "ename": "ModuleNotFoundError",
     "evalue": "No module named 'scapy'",
     "output_type": "error",
     "traceback": [
      "\u001b[1;31m---------------------------------------------------------------------------\u001b[0m",
      "\u001b[1;31mModuleNotFoundError\u001b[0m                       Traceback (most recent call last)",
      "\u001b[1;32m<ipython-input-1-0db1b9ebb8f2>\u001b[0m in \u001b[0;36m<module>\u001b[1;34m\u001b[0m\n\u001b[1;32m----> 1\u001b[1;33m \u001b[1;32mfrom\u001b[0m \u001b[0mscapy\u001b[0m\u001b[1;33m.\u001b[0m\u001b[0mall\u001b[0m \u001b[1;32mimport\u001b[0m \u001b[1;33m*\u001b[0m\u001b[1;33m\u001b[0m\u001b[1;33m\u001b[0m\u001b[0m\n\u001b[0m\u001b[0;32m      2\u001b[0m \u001b[1;32mimport\u001b[0m \u001b[0mpandas\u001b[0m \u001b[1;32mas\u001b[0m \u001b[0mpd\u001b[0m\u001b[1;33m\u001b[0m\u001b[1;33m\u001b[0m\u001b[0m\n\u001b[0;32m      3\u001b[0m \u001b[1;32mimport\u001b[0m \u001b[0mnumpy\u001b[0m \u001b[1;32mas\u001b[0m \u001b[0mnp\u001b[0m\u001b[1;33m\u001b[0m\u001b[1;33m\u001b[0m\u001b[0m\n\u001b[0;32m      4\u001b[0m \u001b[1;32mimport\u001b[0m \u001b[0mbinascii\u001b[0m\u001b[1;33m\u001b[0m\u001b[1;33m\u001b[0m\u001b[0m\n\u001b[0;32m      5\u001b[0m \u001b[1;32mimport\u001b[0m \u001b[0mseaborn\u001b[0m \u001b[1;32mas\u001b[0m \u001b[0msns\u001b[0m\u001b[1;33m\u001b[0m\u001b[1;33m\u001b[0m\u001b[0m\n",
      "\u001b[1;31mModuleNotFoundError\u001b[0m: No module named 'scapy'"
     ]
    }
   ],
   "source": [
    "from scapy.all import * \n",
    "import pandas as pd \n",
    "import numpy as np \n",
    "import binascii \n",
    "import seaborn as sns\n",
    "sns.set(color_codes=True)"
   ]
  },
  {
   "cell_type": "code",
   "execution_count": null,
   "metadata": {},
   "outputs": [],
   "source": [
    "num_of_packets_to_sniff = 100\n",
    "pcap = sniff(count=num_of_packets_to_sniff)\n",
    "print(type(pcap))\n",
    "print(len(pcap))\n",
    "print(pcap)\n",
    "pcap[0]"
   ]
  },
  {
   "cell_type": "code",
   "execution_count": null,
   "metadata": {},
   "outputs": [],
   "source": [
    "cd Desktop\n"
   ]
  },
  {
   "cell_type": "code",
   "execution_count": null,
   "metadata": {},
   "outputs": [],
   "source": [
    "pcap = pcap + rdpcap(\"/home/jishnusaurav/Desktop/phishingattack.pcap\")"
   ]
  },
  {
   "cell_type": "code",
   "execution_count": null,
   "metadata": {},
   "outputs": [],
   "source": [
    "pcap\n"
   ]
  },
  {
   "cell_type": "code",
   "execution_count": null,
   "metadata": {},
   "outputs": [],
   "source": [
    "\n"
   ]
  },
  {
   "cell_type": "code",
   "execution_count": null,
   "metadata": {},
   "outputs": [],
   "source": [
    "ethernet_frame = pcap[101]\n",
    "ip_packet = ethernet_frame.payload\n",
    "segment = ip_packet.payload\n",
    "data = segment.payload \n",
    "print(ethernet_frame.summary())\n",
    "print(ip_packet.summary())\n",
    "print(segment.summary())\n",
    "print(data.summary()) \n",
    "ethernet_frame.show()"
   ]
  },
  {
   "cell_type": "code",
   "execution_count": null,
   "metadata": {},
   "outputs": [],
   "source": [
    "ethernet_type = type(ethernet_frame)\n",
    "ip_type = type(ip_packet)\n",
    "tcp_type = type(segment)\n",
    "print(\"Ethernet\",pcap[ethernet_type])\n",
    "print(\"IP\", pcap[ip_type])\n",
    "print(\"TCP\", pcap[tcp_type])\n",
    "\n",
    "\n",
    "from scapy.layers.l2 import Ether\n",
    "from scapy.layers.inet import IP\n",
    "from scapy.layers.inet import TCP, UDP\n",
    "\n",
    "print(\"UDP\", pcap[UDP])"
   ]
  },
  {
   "cell_type": "code",
   "execution_count": null,
   "metadata": {},
   "outputs": [],
   "source": [
    "ip_fields = [field.name for field in IP().fields_desc]\n",
    "tcp_fields = [field.name for field in TCP().fields_desc]\n",
    "udp_fields = [field.name for field in UDP().fields_desc]\n",
    "\n",
    "dataframe_fields = ip_fields + ['time'] + tcp_fields + ['payload','payload_raw','payload_hex']\n",
    "\n",
    "df = pd.DataFrame(columns=dataframe_fields)\n",
    "for packet in pcap[IP]:\n",
    "    field_values = []\n",
    "    for field in ip_fields:\n",
    "        if field == 'options':\n",
    "            field_values.append(len(packet[IP].fields[field]))\n",
    "        else:\n",
    "            field_values.append(packet[IP].fields[field])\n",
    "    \n",
    "    field_values.append(packet.time)\n",
    "    \n",
    "    layer_type = type(packet[IP].payload)\n",
    "    for field in tcp_fields:\n",
    "        try:\n",
    "            if field == 'options':\n",
    "                field_values.append(len(packet[layer_type].fields[field]))\n",
    "            else:\n",
    "                field_values.append(packet[layer_type].fields[field])\n",
    "        except:\n",
    "            field_values.append(None)\n",
    "    \n",
    "    field_values.append(len(packet[layer_type].payload))\n",
    "    field_values.append(packet[layer_type].payload.original)\n",
    "    field_values.append(binascii.hexlify(packet[layer_type].payload.original))\n",
    "  \n",
    "    df_append = pd.DataFrame([field_values], columns=dataframe_fields)\n",
    "    df = pd.concat([df, df_append], axis=0)\n",
    "\n",
    "df = df.reset_index()\n",
    "df = df.drop(columns=\"index\")"
   ]
  },
  {
   "cell_type": "code",
   "execution_count": null,
   "metadata": {},
   "outputs": [],
   "source": [
    "print(df.iloc[0])\n",
    "\n",
    "print(df.shape)\n",
    "\n",
    "df.head()\n",
    "\n",
    "df.tail()\n",
    "df['src']\n",
    "\n",
    "df[['src','dst','sport','dport']]"
   ]
  },
  {
   "cell_type": "code",
   "execution_count": null,
   "metadata": {},
   "outputs": [],
   "source": [
    "print(\"# Top Source Address\")\n",
    "print(df['src'].describe(),'\\n\\n')\n",
    "\n",
    "print(\"# Top Destination Address\")\n",
    "print(df['dst'].describe(),\"\\n\\n\")\n",
    "\n",
    "frequent_address = df['src'].describe()['top']\n",
    "\n",
    "print(\"# Who is Top Address Speaking to?\")\n",
    "print(df[df['src'] == frequent_address]['dst'].unique(),\"\\n\\n\")\n",
    "\n",
    "print(\"# Who is the top address speaking to (Destination Ports)\")\n",
    "print(df[df['src'] == frequent_address]['dport'].unique(),\"\\n\\n\")\n",
    "\n",
    "print(\"# Who is the top address speaking to (Source Ports)\")\n",
    "print(df[df['src'] == frequent_address]['sport'].unique(),\"\\n\\n\")"
   ]
  },
  {
   "cell_type": "code",
   "execution_count": null,
   "metadata": {},
   "outputs": [],
   "source": [
    "print(\"Unique Source Addresses\")\n",
    "print(df['src'].unique())\n",
    "\n",
    "print()\n",
    "\n",
    "print(\"Unique Destination Addresses\")\n",
    "print(df['dst'].unique())"
   ]
  },
  {
   "cell_type": "code",
   "execution_count": null,
   "metadata": {},
   "outputs": [],
   "source": [
    "print(\"Unique Source Addresses\")\n",
    "print(df['src'].unique())\n",
    "\n",
    "print()\n",
    "\n",
    "print(\"Unique Destination Addresses\")\n",
    "print(df['dst'].unique())"
   ]
  },
  {
   "cell_type": "code",
   "execution_count": null,
   "metadata": {},
   "outputs": [],
   "source": [
    "source_addresses = df.groupby(\"src\")['payload'].sum()\n",
    "\n",
    "source_addresses.plot(kind='barh',title=\"Addresses Sending Payloads\",figsize=(15,15))"
   ]
  },
  {
   "cell_type": "code",
   "execution_count": null,
   "metadata": {},
   "outputs": [],
   "source": []
  },
  {
   "cell_type": "code",
   "execution_count": null,
   "metadata": {},
   "outputs": [],
   "source": []
  },
  {
   "cell_type": "code",
   "execution_count": null,
   "metadata": {},
   "outputs": [],
   "source": [
    "destination_payloads = df.groupby(\"dport\")['payload'].sum()\n",
    "destination_payloads.plot(kind='barh',title=\"Destination Ports (Bytes Received)\",figsize=(15,15))"
   ]
  },
  {
   "cell_type": "code",
   "execution_count": null,
   "metadata": {},
   "outputs": [],
   "source": [
    "\n",
    "frequent_address_df = df[df['src'] == frequent_address]\n",
    "x = frequent_address_df['payload'].tolist()\n",
    "sns.barplot(x=\"time\", y=\"payload\", data=frequent_address_df[['payload','time']],\n",
    "            label=\"Total\", color=\"b\").set_title(\"History of bytes sent by most frequent address\")"
   ]
  },
  {
   "cell_type": "code",
   "execution_count": null,
   "metadata": {},
   "outputs": [],
   "source": [
    "frequent_address_df = df[df['src']==frequent_address]\n",
    "\n",
    "frequent_address_groupby = frequent_address_df[['src','dst','payload']].groupby(\"dst\")['payload'].sum()\n",
    "\n",
    "frequent_address_groupby.plot(kind='barh',title=\"Most Frequent Address is Speaking To (Bytes)\",figsize=(8,5))\n",
    "\n",
    "suspicious_ip = frequent_address_groupby.sort_values(ascending=False).index[0]\n",
    "print(suspicious_ip, \"May be a suspicious address\")\n",
    "\n",
    "suspicious_df = frequent_address_df[frequent_address_df['dst']==suspicious_ip]"
   ]
  },
  {
   "cell_type": "code",
   "execution_count": null,
   "metadata": {},
   "outputs": [],
   "source": []
  },
  {
   "cell_type": "code",
   "execution_count": null,
   "metadata": {},
   "outputs": [],
   "source": []
  }
 ],
 "metadata": {
  "kernelspec": {
   "display_name": "Python 3",
   "language": "python",
   "name": "python3"
  },
  "language_info": {
   "codemirror_mode": {
    "name": "ipython",
    "version": 3
   },
   "file_extension": ".py",
   "mimetype": "text/x-python",
   "name": "python",
   "nbconvert_exporter": "python",
   "pygments_lexer": "ipython3",
   "version": "3.9.4"
  }
 },
 "nbformat": 4,
 "nbformat_minor": 4
}
